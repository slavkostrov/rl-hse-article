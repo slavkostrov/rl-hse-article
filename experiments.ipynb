{
 "cells": [
  {
   "cell_type": "code",
   "execution_count": null,
   "metadata": {},
   "outputs": [
    {
     "name": "stdout",
     "output_type": "stream",
     "text": [
      "rm: runs: No such file or directory\n",
      "zsh:1: no matches found: *.pt\n"
     ]
    },
    {
     "name": "stderr",
     "output_type": "stream",
     "text": [
      "/Users/vyacheslav.kostrov/my/hse-mlds/subjects/rl/dqn-atari/.venv/lib/python3.9/site-packages/gym/envs/registration.py:563: UserWarning: \u001b[33mWARN: Using the latest versioned environment `SpaceInvadersDeterministic-v4` instead of the unversioned environment `SpaceInvadersDeterministic`.\u001b[0m\n",
      "  logger.warn(\n",
      "A.L.E: Arcade Learning Environment (version 0.8.1+53f58b7)\n",
      "[Powered by Stella]\n",
      "/Users/vyacheslav.kostrov/my/hse-mlds/subjects/rl/dqn-atari/.venv/lib/python3.9/site-packages/urllib3/__init__.py:35: NotOpenSSLWarning: urllib3 v2 only supports OpenSSL 1.1.1+, currently the 'ssl' module is compiled with 'LibreSSL 2.8.3'. See: https://github.com/urllib3/urllib3/issues/3020\n",
      "  warnings.warn(\n",
      "  0%|          | 0/2000 [00:00<?, ?it/s]/Users/vyacheslav.kostrov/my/hse-mlds/subjects/rl/dqn-atari/.venv/lib/python3.9/site-packages/gym/envs/registration.py:563: UserWarning: \u001b[33mWARN: Using the latest versioned environment `SpaceInvadersDeterministic-v4` instead of the unversioned environment `SpaceInvadersDeterministic`.\u001b[0m\n",
      "  logger.warn(\n",
      "100%|██████████| 2000/2000 [00:00<00:00, 2248.38it/s]\n",
      "100%|██████████| 2500000/2500000 [1:27:35<00:00, 475.66it/s]\n",
      "/Users/vyacheslav.kostrov/my/hse-mlds/subjects/rl/dqn-atari/.venv/lib/python3.9/site-packages/gym/envs/registration.py:563: UserWarning: \u001b[33mWARN: Using the latest versioned environment `SpaceInvadersDeterministic-v4` instead of the unversioned environment `SpaceInvadersDeterministic`.\u001b[0m\n",
      "  logger.warn(\n",
      "A.L.E: Arcade Learning Environment (version 0.8.1+53f58b7)\n",
      "[Powered by Stella]\n",
      "/Users/vyacheslav.kostrov/my/hse-mlds/subjects/rl/dqn-atari/.venv/lib/python3.9/site-packages/urllib3/__init__.py:35: NotOpenSSLWarning: urllib3 v2 only supports OpenSSL 1.1.1+, currently the 'ssl' module is compiled with 'LibreSSL 2.8.3'. See: https://github.com/urllib3/urllib3/issues/3020\n",
      "  warnings.warn(\n",
      "Traceback (most recent call last):\n",
      "  File \"/Users/vyacheslav.kostrov/my/hse-mlds/subjects/rl/dqn-atari/test.py\", line 13, in <module>\n",
      "    qnet.load(args.weight_path)\n",
      "  File \"/Users/vyacheslav.kostrov/my/hse-mlds/subjects/rl/dqn-atari/dqn.py\", line 292, in load\n",
      "    self.net.load_state_dict(torch.load(path))\n",
      "  File \"/Users/vyacheslav.kostrov/my/hse-mlds/subjects/rl/dqn-atari/.venv/lib/python3.9/site-packages/torch/serialization.py\", line 1425, in load\n",
      "    with _open_file_like(f, \"rb\") as opened_file:\n",
      "  File \"/Users/vyacheslav.kostrov/my/hse-mlds/subjects/rl/dqn-atari/.venv/lib/python3.9/site-packages/torch/serialization.py\", line 751, in _open_file_like\n",
      "    return _open_file(name_or_buffer, mode)\n",
      "  File \"/Users/vyacheslav.kostrov/my/hse-mlds/subjects/rl/dqn-atari/.venv/lib/python3.9/site-packages/torch/serialization.py\", line 732, in __init__\n",
      "    super().__init__(open(name, mode))\n",
      "FileNotFoundError: [Errno 2] No such file or directory: 'SpaceInvaders_8.pt'\n",
      "/Users/vyacheslav.kostrov/my/hse-mlds/subjects/rl/dqn-atari/.venv/lib/python3.9/site-packages/gym/envs/registration.py:563: UserWarning: \u001b[33mWARN: Using the latest versioned environment `SpaceInvadersDeterministic-v4` instead of the unversioned environment `SpaceInvadersDeterministic`.\u001b[0m\n",
      "  logger.warn(\n",
      "A.L.E: Arcade Learning Environment (version 0.8.1+53f58b7)\n",
      "[Powered by Stella]\n",
      "/Users/vyacheslav.kostrov/my/hse-mlds/subjects/rl/dqn-atari/.venv/lib/python3.9/site-packages/urllib3/__init__.py:35: NotOpenSSLWarning: urllib3 v2 only supports OpenSSL 1.1.1+, currently the 'ssl' module is compiled with 'LibreSSL 2.8.3'. See: https://github.com/urllib3/urllib3/issues/3020\n",
      "  warnings.warn(\n",
      "  0%|          | 0/2000 [00:00<?, ?it/s]/Users/vyacheslav.kostrov/my/hse-mlds/subjects/rl/dqn-atari/.venv/lib/python3.9/site-packages/gym/envs/registration.py:563: UserWarning: \u001b[33mWARN: Using the latest versioned environment `SpaceInvadersDeterministic-v4` instead of the unversioned environment `SpaceInvadersDeterministic`.\u001b[0m\n",
      "  logger.warn(\n",
      "100%|██████████| 2000/2000 [00:00<00:00, 2282.16it/s]\n",
      "100%|██████████| 2500000/2500000 [2:20:29<00:00, 296.58it/s]  \n",
      "/Users/vyacheslav.kostrov/my/hse-mlds/subjects/rl/dqn-atari/.venv/lib/python3.9/site-packages/gym/envs/registration.py:563: UserWarning: \u001b[33mWARN: Using the latest versioned environment `SpaceInvadersDeterministic-v4` instead of the unversioned environment `SpaceInvadersDeterministic`.\u001b[0m\n",
      "  logger.warn(\n",
      "A.L.E: Arcade Learning Environment (version 0.8.1+53f58b7)\n",
      "[Powered by Stella]\n",
      "/Users/vyacheslav.kostrov/my/hse-mlds/subjects/rl/dqn-atari/.venv/lib/python3.9/site-packages/urllib3/__init__.py:35: NotOpenSSLWarning: urllib3 v2 only supports OpenSSL 1.1.1+, currently the 'ssl' module is compiled with 'LibreSSL 2.8.3'. See: https://github.com/urllib3/urllib3/issues/3020\n",
      "  warnings.warn(\n",
      "Traceback (most recent call last):\n",
      "  File \"/Users/vyacheslav.kostrov/my/hse-mlds/subjects/rl/dqn-atari/test.py\", line 13, in <module>\n",
      "    qnet.load(args.weight_path)\n",
      "  File \"/Users/vyacheslav.kostrov/my/hse-mlds/subjects/rl/dqn-atari/dqn.py\", line 292, in load\n",
      "    self.net.load_state_dict(torch.load(path))\n",
      "  File \"/Users/vyacheslav.kostrov/my/hse-mlds/subjects/rl/dqn-atari/.venv/lib/python3.9/site-packages/torch/serialization.py\", line 1425, in load\n",
      "    with _open_file_like(f, \"rb\") as opened_file:\n",
      "  File \"/Users/vyacheslav.kostrov/my/hse-mlds/subjects/rl/dqn-atari/.venv/lib/python3.9/site-packages/torch/serialization.py\", line 751, in _open_file_like\n",
      "    return _open_file(name_or_buffer, mode)\n",
      "  File \"/Users/vyacheslav.kostrov/my/hse-mlds/subjects/rl/dqn-atari/.venv/lib/python3.9/site-packages/torch/serialization.py\", line 732, in __init__\n",
      "    super().__init__(open(name, mode))\n",
      "FileNotFoundError: [Errno 2] No such file or directory: 'SpaceInvaders_32.pt'\n",
      "/Users/vyacheslav.kostrov/my/hse-mlds/subjects/rl/dqn-atari/.venv/lib/python3.9/site-packages/gym/envs/registration.py:563: UserWarning: \u001b[33mWARN: Using the latest versioned environment `WizardOfWorDeterministic-v4` instead of the unversioned environment `WizardOfWorDeterministic`.\u001b[0m\n",
      "  logger.warn(\n",
      "A.L.E: Arcade Learning Environment (version 0.8.1+53f58b7)\n",
      "[Powered by Stella]\n",
      "/Users/vyacheslav.kostrov/my/hse-mlds/subjects/rl/dqn-atari/.venv/lib/python3.9/site-packages/urllib3/__init__.py:35: NotOpenSSLWarning: urllib3 v2 only supports OpenSSL 1.1.1+, currently the 'ssl' module is compiled with 'LibreSSL 2.8.3'. See: https://github.com/urllib3/urllib3/issues/3020\n",
      "  warnings.warn(\n",
      "  0%|          | 0/2000 [00:00<?, ?it/s]/Users/vyacheslav.kostrov/my/hse-mlds/subjects/rl/dqn-atari/.venv/lib/python3.9/site-packages/gym/envs/registration.py:563: UserWarning: \u001b[33mWARN: Using the latest versioned environment `WizardOfWorDeterministic-v4` instead of the unversioned environment `WizardOfWorDeterministic`.\u001b[0m\n",
      "  logger.warn(\n",
      "100%|██████████| 2000/2000 [00:00<00:00, 2049.32it/s]\n",
      "100%|██████████| 2500000/2500000 [1:29:01<00:00, 468.02it/s]\n",
      "/Users/vyacheslav.kostrov/my/hse-mlds/subjects/rl/dqn-atari/.venv/lib/python3.9/site-packages/gym/envs/registration.py:563: UserWarning: \u001b[33mWARN: Using the latest versioned environment `WizardOfWorDeterministic-v4` instead of the unversioned environment `WizardOfWorDeterministic`.\u001b[0m\n",
      "  logger.warn(\n",
      "A.L.E: Arcade Learning Environment (version 0.8.1+53f58b7)\n",
      "[Powered by Stella]\n",
      "/Users/vyacheslav.kostrov/my/hse-mlds/subjects/rl/dqn-atari/.venv/lib/python3.9/site-packages/urllib3/__init__.py:35: NotOpenSSLWarning: urllib3 v2 only supports OpenSSL 1.1.1+, currently the 'ssl' module is compiled with 'LibreSSL 2.8.3'. See: https://github.com/urllib3/urllib3/issues/3020\n",
      "  warnings.warn(\n",
      "Traceback (most recent call last):\n",
      "  File \"/Users/vyacheslav.kostrov/my/hse-mlds/subjects/rl/dqn-atari/test.py\", line 13, in <module>\n",
      "    qnet.load(args.weight_path)\n",
      "  File \"/Users/vyacheslav.kostrov/my/hse-mlds/subjects/rl/dqn-atari/dqn.py\", line 292, in load\n",
      "    self.net.load_state_dict(torch.load(path))\n",
      "  File \"/Users/vyacheslav.kostrov/my/hse-mlds/subjects/rl/dqn-atari/.venv/lib/python3.9/site-packages/torch/serialization.py\", line 1425, in load\n",
      "    with _open_file_like(f, \"rb\") as opened_file:\n",
      "  File \"/Users/vyacheslav.kostrov/my/hse-mlds/subjects/rl/dqn-atari/.venv/lib/python3.9/site-packages/torch/serialization.py\", line 751, in _open_file_like\n",
      "    return _open_file(name_or_buffer, mode)\n",
      "  File \"/Users/vyacheslav.kostrov/my/hse-mlds/subjects/rl/dqn-atari/.venv/lib/python3.9/site-packages/torch/serialization.py\", line 732, in __init__\n",
      "    super().__init__(open(name, mode))\n",
      "FileNotFoundError: [Errno 2] No such file or directory: 'WizardOfWor_8.pt'\n",
      "/Users/vyacheslav.kostrov/my/hse-mlds/subjects/rl/dqn-atari/.venv/lib/python3.9/site-packages/gym/envs/registration.py:563: UserWarning: \u001b[33mWARN: Using the latest versioned environment `WizardOfWorDeterministic-v4` instead of the unversioned environment `WizardOfWorDeterministic`.\u001b[0m\n",
      "  logger.warn(\n",
      "A.L.E: Arcade Learning Environment (version 0.8.1+53f58b7)\n",
      "[Powered by Stella]\n",
      "/Users/vyacheslav.kostrov/my/hse-mlds/subjects/rl/dqn-atari/.venv/lib/python3.9/site-packages/urllib3/__init__.py:35: NotOpenSSLWarning: urllib3 v2 only supports OpenSSL 1.1.1+, currently the 'ssl' module is compiled with 'LibreSSL 2.8.3'. See: https://github.com/urllib3/urllib3/issues/3020\n",
      "  warnings.warn(\n",
      "  0%|          | 0/2000 [00:00<?, ?it/s]/Users/vyacheslav.kostrov/my/hse-mlds/subjects/rl/dqn-atari/.venv/lib/python3.9/site-packages/gym/envs/registration.py:563: UserWarning: \u001b[33mWARN: Using the latest versioned environment `WizardOfWorDeterministic-v4` instead of the unversioned environment `WizardOfWorDeterministic`.\u001b[0m\n",
      "  logger.warn(\n",
      "100%|██████████| 2000/2000 [00:00<00:00, 2087.35it/s]\n",
      " 60%|█████▉    | 1492544/2500000 [1:23:15<54:36, 307.49it/s]  "
     ]
    }
   ],
   "source": [
    "import gym\n",
    "import os\n",
    "\n",
    "! rm -r runs\n",
    "! rm *.pt\n",
    "\n",
    "GAMES = [\n",
    "    'ChopperCommand',\n",
    "    'Pitfall',\n",
    "    'Skiing',\n",
    "    'Assault',\n",
    "    'VideoPinball',\n",
    "    'Venture',\n",
    "    'Asteroids',\n",
    "    'Zaxxon',\n",
    "    'NameThisGame',\n",
    "    'Breakout',\n",
    "    'Pooyan',\n",
    "    'Kangaroo',\n",
    "    'DemonAttack',\n",
    "    'Gopher',\n",
    "    'Asterix',\n",
    "    'SpaceInvaders',\n",
    "    'WizardOfWor',\n",
    "]\n",
    "\n",
    "for game in GAMES[-2:]:\n",
    "    for batch_size in (8, 32):\n",
    "        os.system(\n",
    "            f\"python train.py {game} {game}_{batch_size}_TEST.pt --replay_memory_size 10000 --replay_start_size 2000 --minibatch_size {batch_size}\"\n",
    "            \" --training_frames 2500000\"\n",
    "        )\n",
    "        os.system(f\"python test.py {game} {game}_{batch_size}.pt\")"
   ]
  },
  {
   "cell_type": "code",
   "execution_count": 6,
   "metadata": {},
   "outputs": [],
   "source": [
    "# ! pip install tensorflow"
   ]
  },
  {
   "cell_type": "code",
   "execution_count": 8,
   "metadata": {},
   "outputs": [
    {
     "data": {
      "text/plain": [
       "2500000.0"
      ]
     },
     "execution_count": 8,
     "metadata": {},
     "output_type": "execute_result"
    }
   ],
   "source": [
    "10000000 / 4"
   ]
  },
  {
   "cell_type": "code",
   "execution_count": null,
   "metadata": {},
   "outputs": [],
   "source": []
  }
 ],
 "metadata": {
  "kernelspec": {
   "display_name": ".venv",
   "language": "python",
   "name": "python3"
  },
  "language_info": {
   "codemirror_mode": {
    "name": "ipython",
    "version": 3
   },
   "file_extension": ".py",
   "mimetype": "text/x-python",
   "name": "python",
   "nbconvert_exporter": "python",
   "pygments_lexer": "ipython3",
   "version": "3.9.6"
  }
 },
 "nbformat": 4,
 "nbformat_minor": 2
}
